{
 "cells": [
  {
   "cell_type": "markdown",
   "metadata": {},
   "source": [
    "# Surveillance Cameras: An Effective Deterrent or A Waste of Public Resources?\n",
    "\n",
    "TEAM NAME: Team 96\n",
    "\n",
    "TEAM MEMBERS: Chaitanya Patel, Kristine Marie Baluyot, Linh Le, Namit Mishra, Tiffany Zhang, Robert Eaton\n",
    "\n",
    "BACKGROUND: \n",
    "\n",
    "Gun violence has become a politically and socially divisive issue in recent years in America. The recent attack on a mosque in New Zealand is also a reminder that the situation is not very different in some other countries as well. Over the past 10 years, many measures have been suggested and implemented for prevention of these crimes in various cities throughout America, such as surveillance cameras, increased number of police patrols, and new legislation. Yet, we’ve seen the highest number of deaths by guns in the last 50 years in 2018.1 While looking at data on gun violence we discovered that 5% of all crimes related to guns occur in the city of Chicago, the highest in the country.2 Chicago has a network of over 30,000 cameras and sensors to monitor the city streets. Some people have been skeptical about the effectiveness of these cameras while others have praised its usefulness in conducting the ensuing investigation.3 Further, these cameras come with a risk of intrusion and abuse, leading some people to be skeptical about them. \n",
    "\n",
    "A significant amount of data-driven analysis is not available on whether these surveillance methods have been effective. Due to Chicago having a high amount of gun-related crimes, and availability of location data for the cameras, we decided to narrow down on Chicago to analyze the effectiveness of the cameras in reducing gun violence over the years. We will look at the proximity of the crimes to these cameras, and we will analyze if the cameras are effective, and if not, whether something can be done to make them useful. \n",
    "\n",
    "Gun violence has also been known to be related to poverty and income inequality.4 “School funding levels, according to the analysis of the Education Law Center and the Rutgers Graduate School of Education, vary most dramatically along school-district lines, generally dictated by local property taxes, which renders the education of some wealthy children funded at double the rate of a poor kid’s.” 5 We will use the data on public schools in Chicago to analyze how expenditure and performance of the school affects the gun crimes in the school district. \n"
   ]
  },
  {
   "cell_type": "code",
   "execution_count": 2,
   "metadata": {},
   "outputs": [],
   "source": [
    "# Imports the library \n",
    "\n",
    "%matplotlib inline\n",
    "\n",
    "import numpy as np\n",
    "import pandas as pd\n",
    "import matplotlib.pyplot as plt\n"
   ]
  },
  {
   "cell_type": "code",
   "execution_count": null,
   "metadata": {},
   "outputs": [],
   "source": []
  }
 ],
 "metadata": {
  "kernelspec": {
   "display_name": "Python 3",
   "language": "python",
   "name": "python3"
  },
  "language_info": {
   "codemirror_mode": {
    "name": "ipython",
    "version": 3
   },
   "file_extension": ".py",
   "mimetype": "text/x-python",
   "name": "python",
   "nbconvert_exporter": "python",
   "pygments_lexer": "ipython3",
   "version": "3.7.3"
  }
 },
 "nbformat": 4,
 "nbformat_minor": 2
}
