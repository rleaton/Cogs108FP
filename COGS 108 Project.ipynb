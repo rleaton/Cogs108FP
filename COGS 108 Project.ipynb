{
 "cells": [
  {
   "cell_type": "markdown",
   "metadata": {},
   "source": [
    "# COGS 108 - FInal Project \n",
    "# Surveillance Cameras: An Effective Deterrent or A Waste of Public Resources?\n",
    "\n",
    "# Overview \n",
    "\n",
    "Fill in overview here \n",
    "\n",
    "# Names\n",
    "Chaitanya Patel\n",
    "Kristine Marie Baluyot \n",
    "Linh Le\n",
    "Namit Mishra\n",
    "Tiffany Zhang\n",
    "Robert Eaton\n",
    "\n",
    "# Group Members IDs\n",
    "A14190293\n",
    "A13447798\n",
    "A14201350\n",
    "A########\n",
    "A########\n",
    "A########\n",
    "\n",
    "# Research Question\n",
    "Do surveillance through Blue Light Cameras have a noticeable effect on the crime rate for violent crimes in Chicago in a 2.5 year period before and after activation in July 2003?\n",
    "\n",
    "# Background and Prior Work\n",
    "Gun violence has become a politically and socially divisive issue in recent years in America. The recent attack on a mosque in New Zealand is also a reminder that the situation is not very different in some other countries as well. Over the past 10 years, many measures have been suggested and implemented for prevention of these crimes in various cities throughout America, such as surveillance cameras, increased number of police patrols, and new legislation. Yet, we’ve seen the highest number of deaths by guns in the last 50 years in 2018.1 While looking at data on gun violence we discovered that 5% of all crimes related to guns occur in the city of Chicago, the highest in the country.2 Chicago has a network of over 30,000 cameras and sensors to monitor the city streets. Some people have been skeptical about the effectiveness of these cameras while others have praised its usefulness in conducting the ensuing investigation.3 Further, these cameras come with a risk of intrusion and abuse, leading some people to be skeptical about them. \n",
    "\n",
    "A significant amount of data-driven analysis is not available on whether these surveillance methods have been effective. Due to Chicago having a high amount of gun-related crimes, and availability of location data for the cameras, we decided to narrow down on Chicago to analyze the effectiveness of the cameras in reducing gun violence over the years. We will look at the proximity of the crimes to these cameras, and we will analyze if the cameras are effective, and if not, whether something can be done to make them useful. \n",
    "\n",
    "Gun violence has also been known to be related to poverty and income inequality.4 “School funding levels, according to the analysis of the Education Law Center and the Rutgers Graduate School of Education, vary most dramatically along school-district lines, generally dictated by local property taxes, which renders the education of some wealthy children funded at double the rate of a poor kid’s.” 5 We will use the data on public schools in Chicago to analyze how expenditure and performance of the school affects the gun crimes in the school district.\n",
    "\n",
    "# References (include links):\n",
    "\n",
    "1)\n",
    "2)\n",
    "\n",
    "# Hypothesis\n",
    "The significant debate in the research into these cameras has not established a definitive link between their prevalence and lower crime rates, so we hypothesize that these cameras may not prove to be effective crime deterrents. \n",
    "\n",
    "While the POD cameras were initially installed in areas where the crime was inherently more prevalent, we also hypothesize that areas with higher per capita income and education levels will naturally have lower violent gun crimes. \n",
    "\n",
    "\n",
    "# Dataset(s)\n",
    "We will do an analysis on the short-term and long-term. We have crime data with locations starting from the year 2000. The cameras were installed in the year 2003, and the short term analysis would start in 2000 and end in 2005, for an equal 2.5 year period before and after. We could compare the rate of change before 2003 and after.\n",
    "\n",
    "The long-term analysis would see if that drop is \n",
    "\n",
    "Crimes in Chicago 2000-2006\n",
    "Crimes - https://www.kaggle.com/currie32/crimes-in-chicago\n",
    "\n",
    "Blue Light Cameras in the city of Chicago\n",
    "\tPOD Cameras - https://redshiftzero.github.io/policesurveillance/\n",
    "\n",
    "Red Light and Traffic Light Cameras in the city of Chicago\n",
    "\tRed Light/Traffic Light - https://www.kaggle.com/chicago/chicago-red-light-and-speed-camera-data\n",
    "\n",
    "-------------------\n",
    "\n",
    "**** Need to include these information for each dataset *****\n",
    "Dataset Name:\n",
    "Link to the dataset:\n",
    "Number of observations:\n",
    "1-2 sentences describing each dataset.\n",
    "\n",
    "If you plan to use multiple datasets, add 1-2 sentences about how you plan to combine these datasets.\n",
    "\n",
    "\n"
   ]
  },
  {
   "cell_type": "markdown",
   "metadata": {},
   "source": [
    "# Setup"
   ]
  },
  {
   "cell_type": "code",
   "execution_count": 2,
   "metadata": {},
   "outputs": [],
   "source": [
    "# Imports the library \n",
    "\n",
    "%matplotlib inline\n",
    "\n",
    "import numpy as np\n",
    "import pandas as pd\n",
    "import matplotlib.pyplot as plt\n"
   ]
  },
  {
   "cell_type": "code",
   "execution_count": null,
   "metadata": {},
   "outputs": [],
   "source": [
    "# Code here "
   ]
  },
  {
   "cell_type": "markdown",
   "metadata": {},
   "source": [
    "# Data Cleaning "
   ]
  },
  {
   "cell_type": "code",
   "execution_count": 3,
   "metadata": {},
   "outputs": [],
   "source": [
    "df = pd.read_csv('Crimes_-_2001_to_present.csv')\n",
    "df_camera = pd.read_csv('lat_long.csv')"
   ]
  },
  {
   "cell_type": "code",
   "execution_count": null,
   "metadata": {},
   "outputs": [],
   "source": [
    "df[\"Primary Type\"].unique()"
   ]
  },
  {
   "cell_type": "markdown",
   "metadata": {},
   "source": [
    "As evidenced, there are multiple types of crimes. However, only certain ones are deemed 'violent' under Illinois and federal laws. The next step is to remove rows with non-violent crimes. The source for the definition of violent crimes is http://gis.chicagopolice.org/CLEARMap_crime_sums/crime_types.html."
   ]
  },
  {
   "cell_type": "code",
   "execution_count": null,
   "metadata": {},
   "outputs": [],
   "source": [
    "crimes = df[(df[\"Primary Type\"] == 'BATTERY') & (df[\"IUCR\"] != \"0440\") & (df[\"IUCR\"] != \"0486\") & (df[\"IUCR\"] != \"0460\") & \n",
    "            (df[\"IUCR\"] != '0484') & (df['IUCR'] != '0454') & (df['IUCR'] != '0487') & (df['IUCR'] != '0475')|\n",
    "            (df[\"Primary Type\"] == 'ROBBERY') | \n",
    "            (df[\"Primary Type\"] == 'ASSAULT') & (df[\"IUCR\"] != '0560') & (df['IUCR'] != '0554') & (df['IUCR'] != '0545')|\n",
    "            (df[\"Primary Type\"] == 'CRIM SEXUAL ASSAULT') | (df[\"Primary Type\"] == 'HOMICIDE') | \n",
    "            (df[\"IUCR\"] ==\"1753\") | (df[\"IUCR\"] == \"1754\") | (df['IUCR']==\"0510\") | \n",
    "            (df[\"Primary Type\"] == \"RITUALISM\") & (df[\"IUCR\"] != \"0494\")]  \n",
    "\n",
    "crimes[\"IUCR\"].unique()"
   ]
  },
  {
   "cell_type": "markdown",
   "metadata": {},
   "source": [
    "Next, let us look at the Date column. This analysis requires 2001-2003 crime data only."
   ]
  },
  {
   "cell_type": "code",
   "execution_count": null,
   "metadata": {},
   "outputs": [],
   "source": [
    "crimes = crimes[(crimes[\"Date\"].str[6:10] == '2001') | (crimes[\"Date\"].str[6:10] == '2002') | \n",
    "                (crimes[\"Date\"].str[6:10] == '2003')]\n",
    "crimes"
   ]
  },
  {
   "cell_type": "markdown",
   "metadata": {},
   "source": [
    "Next, since such cameras are only in public locations, it would make sense to remove crimes which occur inside. Obviously, there is some discretion with what place categories are selected. Since the CPD cameras in the dataset are only on streets (not inside housing, restaurants, or in transit stations), crimes which did not explicitly occur in a public location were removed. Looking at the different types of locations:"
   ]
  },
  {
   "cell_type": "code",
   "execution_count": null,
   "metadata": {},
   "outputs": [],
   "source": [
    "crimes.dropna(subset=['Location Description'], inplace=True)\n",
    "crimes = crimes[(crimes[\"Location Description\"] == \"PARKING LOT/GARAGE(NON.RESID.)\") | \n",
    "                (crimes[\"Location Description\"] == \"STREET\" )| (crimes[\"Location Description\"] == \"ALLEY\") |\n",
    "                (crimes[\"Location Description\"] == \"SIDEWALK\")|(crimes[\"Location Description\"] == \"RESIDENCE PORCH/HALLWAY\")\n",
    "                | (crimes[\"Location Description\"] == \"CHA PARKING LOT/GROUNDS\")|\n",
    "                (crimes[\"Location Description\"] == \"GAS STATION\")|(crimes[\"Location Description\"] == \"POLICE FACILITY/VEH PARKING LOT\") |\n",
    "                (crimes[\"Location Description\"] == \"VACANT LOT/LAND\")|(crimes[\"Location Description\"] == \"PARK PROPERTY\")|\n",
    "                (crimes[\"Location Description\"] == \"CTA GARAGE / OTHER PROPERTY\")|(crimes[\"Location Description\"] == \"DRIVEWAY - RESIDENTIAL\") |\n",
    "                (crimes[\"Location Description\"] == \"PARKING LOT\") | (crimes[\"Location Description\"] == \"PORCH\")|\n",
    "                (crimes[\"Location Description\"] == \"YARD\")| (crimes[\"Location Description\"] == \"RESIDENTIAL YARD (FRONT/BACK)\") |\n",
    "                (crimes[\"Location Description\"] == \"HIGHWAY/EXPRESSWAY\") | (crimes[\"Location Description\"] == \"CHA PARKING LOT\") |\n",
    "                (crimes[\"Location Description\"] == \"BRIDGE\")| (crimes[\"Location Description\"] == \"YARD\")|\n",
    "                (crimes[\"Location Description\"] == \"LAKEFRONT/WATERFRONT/RIVERBANK\")|(crimes[\"Location Description\"] == \"DRIVEWAY\")]\n",
    "\n",
    "crimes.head(5)"
   ]
  },
  {
   "cell_type": "markdown",
   "metadata": {},
   "source": [
    "Now, it is time to plot all the crimes. First, search for missing values. Since there are few of them relative to the size of the remaining database, they can be dropped. Further, a few points were well outside of Chicago for whatever reason. These were also dropped with the latitude and longitude bounds. Then, they are plotted with plt, with each color marking one of Chicago's 77 community areas we will use for comparison."
   ]
  },
  {
   "cell_type": "code",
   "execution_count": null,
   "metadata": {},
   "outputs": [],
   "source": [
    "crimes.dropna(subset=['Latitude', 'Longitude'], inplace=True)\n",
    "crimes.shape\n",
    "location = list(zip(crimes['Latitude'], crimes['Longitude']))\n",
    "\n",
    "crimes = crimes[(crimes['Latitude'] > 41) &\n",
    "                    (crimes['Latitude'] < 43) &\n",
    "                    (crimes['Longitude'] > -88) &\n",
    "                    (crimes['Longitude'] < -87)]\n",
    "\n",
    "plt.figure(figsize=(10, 10))\n",
    "plt.scatter(crimes['Longitude'], crimes['Latitude'], s=0.02, c=crimes[\"Community Areas\"])\n",
    "axes = plt.gca()\n",
    "axes.set_xlabel('Longitude')\n",
    "axes.set_ylabel('Latitude')"
   ]
  },
  {
   "cell_type": "markdown",
   "metadata": {},
   "source": [
    "Data for 2004-2006"
   ]
  },
  {
   "cell_type": "code",
   "execution_count": null,
   "metadata": {},
   "outputs": [],
   "source": [
    "crimes2 = df[['ID', 'Date', 'IUCR', 'Primary Type', 'Location Description', 'Latitude', 'Longitude', 'Community Areas']]"
   ]
  },
  {
   "cell_type": "code",
   "execution_count": null,
   "metadata": {},
   "outputs": [],
   "source": [
    "crimes2 = df[(df[\"Primary Type\"] == 'BATTERY') & (df[\"IUCR\"] != \"0440\") & (df[\"IUCR\"] != \"0486\") & (df[\"IUCR\"] != \"0460\") & \n",
    "            (df[\"IUCR\"] != '0484') & (df['IUCR'] != '0454') & (df['IUCR'] != '0487') & (df['IUCR'] != '0475')|\n",
    "            (df[\"Primary Type\"] == 'ROBBERY') | \n",
    "            (df[\"Primary Type\"] == 'ASSAULT') & (df[\"IUCR\"] != '0560') & (df['IUCR'] != '0554') & (df['IUCR'] != '0545')|\n",
    "            (df[\"Primary Type\"] == 'CRIM SEXUAL ASSAULT') | (df[\"Primary Type\"] == 'HOMICIDE') | \n",
    "            (df[\"IUCR\"] ==\"1753\") | (df[\"IUCR\"] == \"1754\") | (df['IUCR']==\"0510\") | \n",
    "            (df[\"Primary Type\"] == \"RITUALISM\") & (df[\"IUCR\"] != \"0494\")]  \n",
    "\n",
    "crimes2[\"IUCR\"].unique()"
   ]
  },
  {
   "cell_type": "code",
   "execution_count": null,
   "metadata": {},
   "outputs": [],
   "source": [
    "crimes2 = crimes2[(crimes2[\"Date\"].str[6:10] == '2004') | (crimes2[\"Date\"].str[6:10] == '2005') | \n",
    "                (crimes2[\"Date\"].str[6:10] == '2006')]\n",
    "crimes2"
   ]
  },
  {
   "cell_type": "code",
   "execution_count": null,
   "metadata": {},
   "outputs": [],
   "source": [
    "crimes2.dropna(subset=['Location Description'], inplace=True)\n",
    "crimes2 = crimes2[(crimes2[\"Location Description\"] == \"PARKING LOT/GARAGE(NON.RESID.)\") | \n",
    "                (crimes2[\"Location Description\"] == \"STREET\" )| (crimes2[\"Location Description\"] == \"ALLEY\") |\n",
    "                (crimes2[\"Location Description\"] == \"SIDEWALK\")|(crimes2[\"Location Description\"] == \"RESIDENCE PORCH/HALLWAY\")\n",
    "                | (crimes2[\"Location Description\"] == \"CHA PARKING LOT/GROUNDS\")|\n",
    "                (crimes2[\"Location Description\"] == \"GAS STATION\")|(crimes2[\"Location Description\"] == \"POLICE FACILITY/VEH PARKING LOT\") |\n",
    "                (crimes2[\"Location Description\"] == \"VACANT LOT/LAND\")|(crimes2[\"Location Description\"] == \"PARK PROPERTY\")|\n",
    "                (crimes2[\"Location Description\"] == \"CTA GARAGE / OTHER PROPERTY\")|(crimes2[\"Location Description\"] == \"DRIVEWAY - RESIDENTIAL\") |\n",
    "                (crimes2[\"Location Description\"] == \"PARKING LOT\") | (crimes2[\"Location Description\"] == \"PORCH\")|\n",
    "                (crimes2[\"Location Description\"] == \"YARD\")| (crimes2[\"Location Description\"] == \"RESIDENTIAL YARD (FRONT/BACK)\") |\n",
    "                (crimes2[\"Location Description\"] == \"HIGHWAY/EXPRESSWAY\") | (crimes2[\"Location Description\"] == \"CHA PARKING LOT\") |\n",
    "                (crimes2[\"Location Description\"] == \"BRIDGE\")| (crimes2[\"Location Description\"] == \"YARD\")|\n",
    "                (crimes2[\"Location Description\"] == \"LAKEFRONT/WATERFRONT/RIVERBANK\")|(crimes2[\"Location Description\"] == \"DRIVEWAY\")]\n",
    "\n",
    "crimes2.head(5)"
   ]
  },
  {
   "cell_type": "code",
   "execution_count": null,
   "metadata": {},
   "outputs": [],
   "source": [
    "crimes2.dropna(subset=['Latitude', 'Longitude'], inplace=True)\n",
    "crimes2.shape\n",
    "location = list(zip(crimes2['Latitude'], crimes2['Longitude']))\n",
    "\n",
    "crimes2 = crimes2[(crimes2['Latitude'] > 41) &\n",
    "                    (crimes2['Latitude'] < 43) &\n",
    "                    (crimes2['Longitude'] > -88) &\n",
    "                    (crimes2['Longitude'] < -87)]\n",
    "\n",
    "plt.figure(figsize=(10, 10))\n",
    "plt.scatter(crimes2['Longitude'], crimes2['Latitude'], s=0.02, c=crimes2[\"Community Areas\"])\n",
    "axes = plt.gca()\n",
    "axes.set_xlabel('Longitude')\n",
    "axes.set_ylabel('Latitude')"
   ]
  },
  {
   "cell_type": "markdown",
   "metadata": {},
   "source": [
    "# Data Analysis & Results "
   ]
  },
  {
   "cell_type": "code",
   "execution_count": null,
   "metadata": {},
   "outputs": [],
   "source": [
    "# Code here "
   ]
  },
  {
   "cell_type": "markdown",
   "metadata": {},
   "source": [
    "# Ethics and Privacy \n",
    "\n",
    "The datasets that we are using for this project are available for public use, and there are no restrictions in using them. Our data usage will be split in two. The first part of the analysis is parsing the location of the crime to the location of a camera. The second part will be cross-checking the longitudinal and latitudinal coordinates to an existing district and analyzing the income and education performance of that district. The first part involves the use of long/lat coordinates of the crimes which render the addresses anonymous. We will focus only on statistically relevant information; this includes the number of guns involved, number of victims, and the date of the crime. The second part consists of parsing the long/lat lines and determining a district which may reveal specific addresses. However, as this information is only as detailed to a block within the neighborhood, this will not infringe upon any individual’s privacy.\n",
    "\n",
    "Besides privacy concerns, we will also take into account biased data collection and reporting. The data collection is highly unlikely to be biased as it was collected by the Gun Violence Archive which adds data to its database based on police reports. The reporting of our findings may be skewed as we have prior knowledge that the cameras were installed in areas with a higher rate of crime; we will attempt to circumvent this by mixing in traffic camera lights. This allows for a more randomized pool of long/lat lines and will make it considerably more difficult to guess where the POD lights are based on coordinates alone.\n"
   ]
  },
  {
   "cell_type": "markdown",
   "metadata": {},
   "source": [
    "# Conclusion & Discussion \n"
   ]
  },
  {
   "cell_type": "code",
   "execution_count": null,
   "metadata": {},
   "outputs": [],
   "source": []
  }
 ],
 "metadata": {
  "kernelspec": {
   "display_name": "Python 3",
   "language": "python",
   "name": "python3"
  },
  "language_info": {
   "codemirror_mode": {
    "name": "ipython",
    "version": 3
   },
   "file_extension": ".py",
   "mimetype": "text/x-python",
   "name": "python",
   "nbconvert_exporter": "python",
   "pygments_lexer": "ipython3",
   "version": "3.7.3"
  }
 },
 "nbformat": 4,
 "nbformat_minor": 2
}
